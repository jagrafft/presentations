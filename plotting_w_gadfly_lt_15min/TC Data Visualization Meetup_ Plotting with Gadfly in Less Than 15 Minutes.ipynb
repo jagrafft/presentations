{
 "cells": [
  {
   "cell_type": "markdown",
   "metadata": {},
   "source": [
    "# Plotting With Gadfly in ≤ 15 Minutes\n",
    "Jason A. Grafft\n",
    "\n",
    "jason@grafft.co\n",
    "\n",
    "1. Introduction\n",
    "2. `@>> [\"Julia\", \"Gadfly\"] map(x -> \"Why $x?\")`\n",
    "3. DataFrame-type structures\n",
    "4. Plotting with Gadfly\n",
    "5. Resources"
   ]
  },
  {
   "cell_type": "markdown",
   "metadata": {},
   "source": [
    "## 1. Introduction"
   ]
  },
  {
   "cell_type": "code",
   "execution_count": null,
   "metadata": {},
   "outputs": [],
   "source": [
    "# Library for lazy loading\n",
    "using Lazy\n",
    "\n",
    "# Libraries for data handling\n",
    "using CSV, DataFrames, Query\n",
    "\n",
    "# Library-in-question\n",
    "using Gadfly\n",
    "\n",
    "# Helper functions for generating and plotting data\n",
    "plus001(n::Float64) = @lazy n+0.001:plus001(n+0.001);\n",
    "epoch_ll = @> 1530426514. plus001;\n",
    "\n",
    "df(n::Int64) = DataFrame(t=[x for x in take(n, epoch_ll)], x=rand(n), y=rand(n), z=rand(n));\n",
    "df_ll(n::Int64) = @lazy df(n):df_ll(n);\n",
    "\n",
    "sensorXYZ(df::DataFrame) = @>> [(:x, colorant\"deepskyblue\"), (:y, colorant\"orange\"), (:z, colorant\"green\")] map(s -> plot(df, x=:t, y=s[1], color=[s[2]], Guide.xticks(label=false), Guide.ylabel(\"$(s[1])\"), Geom.smooth)) hstack\n",
    "sensorXYZnl(df::DataFrame) = @>> [(:x, colorant\"deepskyblue\"), (:y, colorant\"orange\"), (:z, colorant\"green\")] map(s -> plot(df, x=:t, y=s[1], color=[s[2]], Guide.xlabel(\"\"), Guide.xticks(label=false), Guide.ylabel(\"\"), Guide.yticks(label=false), Geom.smooth)) hstack\n",
    "sensorXYZsc(df::DataFrame) = @>> [(:x, colorant\"deepskyblue\"), (:y, colorant\"orange\"), (:z, colorant\"green\")] map(s -> plot(df, x=:t, y=s[1], color=[s[2]], Guide.xlabel(\"\"), Guide.xticks(label=false), Guide.ylabel(\"\"), Guide.yticks(ticks=[0.465,0.495,0.525]), Geom.smooth)) hstack\n",
    "\n",
    "_layer(t) = layer(x=:t, y=t[1], color=[t[2]], Geom.smooth)\n",
    "\n",
    "themedPlot(df::DataFrame) = plot(df, _layer((:x, colorant\"deepskyblue\")), _layer((:y, colorant\"orange\")), _layer((:z, colorant\"green\")), Guide.ylabel(\"\"), Guide.manual_color_key(\"Column\", [\"x\", \"y\", \"z\"], [\"deepskyblue\", \"orange\", \"green\"]))\n",
    "themedPlotNL(df::DataFrame) = plot(df, _layer((:x, colorant\"deepskyblue\")), _layer((:y, colorant\"orange\")), _layer((:z, colorant\"green\")), Guide.xlabel(\"\"), Guide.xticks(label=false), Guide.ylabel(\"\"), Guide.yticks(label=false), Guide.manual_color_key(\"Column\", [\"x\", \"y\", \"z\"], [\"deepskyblue\", \"orange\", \"green\"]))"
   ]
  },
  {
   "cell_type": "markdown",
   "metadata": {},
   "source": [
    "## 2. `@>> [\"Julia\", \"Gadfly\"] map(x -> \"Why $x?\")`\n",
    "1. Julia\n",
    "    - Python/R inspired syntax\n",
    "    - Exceptionally performant\n",
    "    - Purpose-built for numerical computing\n",
    "    - Friendly to algebraic structures, functional programming\n",
    "2. Gadfly\n",
    "    - Built on Julia\n",
    "    - SVG drawing package\n",
    "    - Friendly to \\*\\*flow programming patterns"
   ]
  },
  {
   "cell_type": "markdown",
   "metadata": {},
   "source": [
    "## 3. DataFrame-type structures\n",
    "DataFrame-type structures are familiar. They are ignorantly opinionated, and we love them for it."
   ]
  },
  {
   "cell_type": "code",
   "execution_count": null,
   "metadata": {},
   "outputs": [],
   "source": [
    "@> 12 df"
   ]
  },
  {
   "cell_type": "markdown",
   "metadata": {},
   "source": [
    "Relationships in the physical world are not strictly 2-dimensional, however. \"In the wild\", there is a function which polls each sensor in a set and translates $SensorData$ to a $DataFrame$, then stores each DataFrame in a list. Formally, we have"
   ]
  },
  {
   "cell_type": "markdown",
   "metadata": {},
   "source": [
    "$$f: SensorData \\rightarrow DataFrame$$\n",
    "$$map: [SensorData] \\rightarrow f \\rightarrow [DataFrame]$$ where\n",
    "$$\\{\\ell, L, [*]\\} \\in List$$\n",
    "$$\\{f, map\\} \\in Function$$\n",
    "$$\\forall\\ell\\in L: \\ell\\ni DataFrame$$"
   ]
  },
  {
   "cell_type": "markdown",
   "metadata": {},
   "source": [
    "Here, we use nesting to partially encode the data. This provides critical context (state) to the functions tasked to process it.\n",
    "\n",
    "In our current case, each set of sensors, $\\ell$, provides a master control system with a partial view of the surrounding environment. Compressing $\\ell$ into a single value (object) prior to reporting upward allows the control system to more efficiently reason."
   ]
  },
  {
   "cell_type": "code",
   "execution_count": null,
   "metadata": {},
   "outputs": [],
   "source": [
    "# Lazy list of \"sensor\" data where each inner list is of length 5 and each DataFrame has 15,345 entries--\n",
    "# ~15 seconds' worth of samples at 1000hz.\n",
    "sensorArray = @lazy take(5, df_ll(15345)):sensorArray;\n",
    "\n",
    "# Lazy list of six (6) lists of length five (5).\n",
    "rawSensorData = @>> sensorArray take(6);"
   ]
  },
  {
   "cell_type": "markdown",
   "metadata": {},
   "source": [
    "## 4. Plotting with Gadfly\n",
    "- Standard plots readily available [[Gadfly.Geometries](http://gadflyjl.org/stable/lib/geometries.html)]\n",
    "- Programmatic composition allows for arbitrary interleaving of logic\n",
    "    - No need to coerce data into fixed structures or relations\n",
    "    - Control of mutation, edge cases, missing values, ... in data\n",
    "    - Data structuring schemas are highly visible (open source)\n",
    "- Plots are values (objects)\n",
    "    - Custom titles/axes/file names/...\n",
    "    - Multiple computations/settings/data sets/...\n",
    "    - \"Low overhead\" modifications\n",
    "    - Layering and stacking\n",
    "- Draws to SVG, SVGJS\n",
    "    - PNG, PDF, and PS via Cairo backend\n",
    "- Jupyter and REPL"
   ]
  },
  {
   "cell_type": "code",
   "execution_count": null,
   "metadata": {},
   "outputs": [],
   "source": [
    "# Plot with largely default values\n",
    "s35 = head(rawSensorData[3][5],5000)\n",
    "plot(s35,\n",
    "        x=:t,\n",
    "        y=Col.value(:x, :y, :z),\n",
    "        color=Col.index(:x, :y, :z),\n",
    "        Guide.ylabel(\"\"),\n",
    "        Geom.smooth\n",
    "    )"
   ]
  },
  {
   "cell_type": "code",
   "execution_count": null,
   "metadata": {},
   "outputs": [],
   "source": [
    "# Custom colors\n",
    "themedPlot(s35)"
   ]
  },
  {
   "cell_type": "code",
   "execution_count": null,
   "metadata": {},
   "outputs": [],
   "source": [
    "# No labels\n",
    "themedPlotNL(s35)"
   ]
  },
  {
   "cell_type": "code",
   "execution_count": null,
   "metadata": {},
   "outputs": [],
   "source": [
    "# Data above with (x, y, z) plotted separately\n",
    "@>> [:x, :y, :z] map(s -> plot(s35, x=:t, y=s, Guide.xticks(label=false), Guide.ylabel(\"\"), Geom.smooth)) hstack"
   ]
  },
  {
   "cell_type": "code",
   "execution_count": null,
   "metadata": {},
   "outputs": [],
   "source": [
    "# Custom colors\n",
    "@> sensorXYZ(s35)"
   ]
  },
  {
   "cell_type": "code",
   "execution_count": null,
   "metadata": {},
   "outputs": [],
   "source": [
    "# No labels\n",
    "@> sensorXYZnl(s35)"
   ]
  },
  {
   "cell_type": "code",
   "execution_count": null,
   "metadata": {},
   "outputs": [],
   "source": [
    "# Scaled\n",
    "@> sensorXYZsc(s35)"
   ]
  },
  {
   "cell_type": "markdown",
   "metadata": {},
   "source": [
    "Up to now we've been using the same DataFrame, `s35`. We want to apply these schemes to each DataFrame in our List. We will use a function which maps over $L$ and converts each `DataFrame` in each $\\ell$ to a `Gadfly.Plot` object. Formally,\n",
    "\n",
    "$$g: L \\rightarrow P$$ where\n",
    "$$g \\in Function$$\n",
    "$$\\{\\ell, P\\} \\in List$$\n",
    "$$\\forall\\ell\\in P: \\ell\\ni Gadfly.Plot$$"
   ]
  },
  {
   "cell_type": "code",
   "execution_count": null,
   "metadata": {},
   "outputs": [],
   "source": [
    "# Apply `themedPlot`\n",
    "P = @>> rawSensorData map(x -> @>> x map(y -> @> y head(5000) themedPlot));\n",
    "@> [themedPlot(sen35), P[3][5]] hstack"
   ]
  },
  {
   "cell_type": "code",
   "execution_count": null,
   "metadata": {},
   "outputs": [],
   "source": [
    "# Apply `themedPlotNL`\n",
    "P_ = @>> rawSensorData map(x -> @>> x map(y -> @> y head(5000) themedPlotNL));\n",
    "@> [themedPlotNL(sen35), P_[3][5]] hstack"
   ]
  },
  {
   "cell_type": "code",
   "execution_count": null,
   "metadata": {},
   "outputs": [],
   "source": [
    "# Apply `sensorXYZ`\n",
    "s2 = @>> rawSensorData[2] map(x -> @> x head(5000)) map(x -> @> x sensorXYZ);\n",
    "vstack(s2[1], s2[2], s2[3])"
   ]
  },
  {
   "cell_type": "code",
   "execution_count": null,
   "metadata": {},
   "outputs": [],
   "source": [
    "# Apply `sensorXYZnl`\n",
    "s2_ = @>> rawSensorData[2] map(x -> @> x head(5000)) map(x -> @> x sensorXYZnl);\n",
    "vstack(s2_[1], s2_[2], s2_[3])"
   ]
  },
  {
   "cell_type": "code",
   "execution_count": null,
   "metadata": {},
   "outputs": [],
   "source": [
    "# Apply `sensorXYZsc`\n",
    "s2! = @>> rawSensorData[2] map(x -> @> x head(5000)) map(x -> @> x sensorXYZsc);\n",
    "vstack(s2![1], s2![2], s2![3])"
   ]
  },
  {
   "cell_type": "code",
   "execution_count": null,
   "metadata": {},
   "outputs": [],
   "source": [
    "# Highlight line segments < 0.495"
   ]
  },
  {
   "cell_type": "markdown",
   "metadata": {},
   "source": [
    "## 5. Resources\n",
    "\n",
    "* [Julia][jl]\n",
    "    * [Julia Computing][jlc]\n",
    "    * [JuliaBox][jbox]\n",
    "* [Gadfly][gadfly]\n",
    "* [DataFrames][df]\n",
    "* [Jupyter][jup]\n",
    "\n",
    "[df]: http://juliadata.github.io/DataFrames.jl/stable/\n",
    "[gadfly]: http://gadflyjl.org/stable/\n",
    "[jbox]: http://juliabox.com/\n",
    "[jl]: https://julialang.org/\n",
    "[jlc]: https://juliacomputing.com/\n",
    "[jup]: http://jupyter.org/"
   ]
  }
 ],
 "metadata": {
  "kernelspec": {
   "display_name": "Julia 0.6.2",
   "language": "julia",
   "name": "julia-0.6"
  },
  "language_info": {
   "file_extension": ".jl",
   "mimetype": "application/julia",
   "name": "julia",
   "version": "0.6.2"
  }
 },
 "nbformat": 4,
 "nbformat_minor": 2
}
