{
 "cells": [
  {
   "cell_type": "markdown",
   "metadata": {},
   "source": [
    "# Plotting With Gadfly in ≤ 15 Minutes\n",
    "Jason A. Grafft\n",
    "\n",
    "jason@grafft.co\n",
    "\n",
    "1. Introduction\n",
    "2. `@>> [\"Julia\", \"Gadfly\"] map(x -> \"Why $x?\")`\n",
    "3. DataFrame-type structures\n",
    "4. Plotting with Gadfly\n",
    "5. Resources"
   ]
  },
  {
   "cell_type": "markdown",
   "metadata": {},
   "source": [
    "## 1. Introduction"
   ]
  },
  {
   "cell_type": "code",
   "execution_count": null,
   "metadata": {},
   "outputs": [],
   "source": [
    "# Library for lazy loading\n",
    "using Lazy\n",
    "\n",
    "# Libraries for data handling\n",
    "using DataFrames, Loess, Query\n",
    "\n",
    "# Library-in-question\n",
    "using Gadfly\n",
    "\n",
    "# Helper functions for generating and plotting data\n",
    "plus001(n::Float64) = @lazy n+0.001:plus001(n+0.001);\n",
    "epoch_ll = @> 1530426514. plus001;\n",
    "\n",
    "df_ll(n::Int64) = @lazy DataFrame(t=[x for x in take(n, epoch_ll)], x=rand(n), y=rand(n), z=rand(n)):df_ll(n);\n",
    "\n",
    "xyzColors = [(:x, colorant\"deepskyblue\"), (:y, colorant\"orange\"), (:z, colorant\"green\")]\n",
    "\n",
    "sensorXYZ(d::DataFrame) = @>> xyzColors map(s -> plot(d, x=:t, y=s[1], color=[s[2]], Guide.xticks(label=false), Guide.ylabel(\"$(s[1])\"), Geom.smooth)) hstack\n",
    "sensorXYZnl(d::DataFrame) = @>> xyzColors map(s -> plot(d, x=:t, y=s[1], color=[s[2]], Guide.xlabel(\"\"), Guide.xticks(label=false), Guide.ylabel(\"\"), Guide.yticks(label=false), Geom.smooth)) hstack\n",
    "sensorXYZsc(d::DataFrame) = @>> xyzColors map(s -> plot(d, x=:t, y=s[1], color=[s[2]], Guide.xlabel(\"\"), Guide.xticks(label=false), Guide.ylabel(\"\"), Guide.yticks(ticks=[0.465,0.495,0.525]), Geom.smooth)) hstack\n",
    "sensorXYZhl(d::DataFrame) = @>> xyzColors map(s -> hlPlot(d[:t], d[s[1]], s[2])) hstack\n",
    "\n",
    "mapL(f::Function, l::Lazy.LazyList) = @>> l map(x -> @>> x map(y -> @> y head(5000) f))\n",
    "mapR(f::Function, l::Lazy.LazyList) = @>> l map(x -> @> x head(5000)) map(x -> @> x f)\n",
    "\n",
    "_layer(t) = layer(x=:t, y=t[1], color=[t[2]], Geom.smooth)\n",
    "\n",
    "themedPlot(d::DataFrame) = plot(d, _layer((:x, colorant\"deepskyblue\")), _layer((:y, colorant\"orange\")), _layer((:z, colorant\"green\")), Guide.ylabel(\"\"), Guide.manual_color_key(\"Column\", [\"x\", \"y\", \"z\"], [\"deepskyblue\", \"orange\", \"green\"]))\n",
    "themedPlotNL(d::DataFrame) = plot(d, _layer((:x, colorant\"deepskyblue\")), _layer((:y, colorant\"orange\")), _layer((:z, colorant\"green\")), Guide.xlabel(\"\"), Guide.xticks(label=false), Guide.ylabel(\"\"), Guide.yticks(label=false), Guide.manual_color_key(\"Column\", [\"x\", \"y\", \"z\"], [\"deepskyblue\", \"orange\", \"green\"]))\n",
    "\n",
    "function hlPlot(a, b, c::ColorTypes.RGB{FixedPointNumbers.Normed{UInt8,8}})\n",
    "    model = @> a loess(b)\n",
    "    us = @> minimum(a):0.1:maximum(a) collect\n",
    "    vs = @> model predict(us)\n",
    "    d = DataFrame(us=us, vs=vs)\n",
    "    \n",
    "    lt = @from i in d begin\n",
    "        @where i.vs < 0.495\n",
    "        @select i\n",
    "        @collect DataFrame \n",
    "    end\n",
    "    \n",
    "    plot(\n",
    "        layer(lt, x=:us, y=:vs, Geom.line, Theme(default_color=colorant\"red\", line_width=0.5mm)),\n",
    "        layer(d, x=:us, y=:vs, Geom.line, Theme(default_color=c)),\n",
    "        Guide.xlabel(\"\"),\n",
    "        Guide.xticks(label=false),\n",
    "        Guide.ylabel(\"\")\n",
    "        , Guide.yticks(label=false, ticks=[0.465,0.495,0.525])\n",
    "    )\n",
    "end"
   ]
  },
  {
   "cell_type": "markdown",
   "metadata": {},
   "source": [
    "## 2. `@>> [\"Julia\", \"Gadfly\"] map(x -> \"Why $x?\")`\n",
    "1. Julia\n",
    "    - Python/R inspired syntax\n",
    "    - Exceptionally performant\n",
    "    - Purpose-built for numerical computing\n",
    "    - Friendly to algebraic structures, functional programming\n",
    "2. Gadfly\n",
    "    - Built on Julia\n",
    "    - SVG drawing package\n",
    "    - Friendly to \\*\\*flow programming patterns"
   ]
  },
  {
   "cell_type": "markdown",
   "metadata": {},
   "source": [
    "## 3. DataFrame-type structures\n",
    "DataFrame-type structures are familiar. They are ignorantly opinionated, and we love them for it."
   ]
  },
  {
   "cell_type": "code",
   "execution_count": null,
   "metadata": {},
   "outputs": [],
   "source": [
    "n = 12;\n",
    "DataFrame(t=[x for x in take(n, epoch_ll)], x=rand(n), y=rand(n), z=rand(n))"
   ]
  },
  {
   "cell_type": "markdown",
   "metadata": {},
   "source": [
    "Relationships in the physical world are not strictly 2-dimensional, however. \"In the wild\", there is a function which polls each sensor in a set and translates $SensorData$ to a $DataFrame$, then stores each DataFrame in a list. Formally, we have"
   ]
  },
  {
   "cell_type": "markdown",
   "metadata": {},
   "source": [
    "$$f: SensorData \\rightarrow DataFrame$$\n",
    "$$map: [SensorData] \\rightarrow f \\rightarrow [DataFrame]$$ where\n",
    "$$\\{\\ell, L, [*]\\} \\in List$$\n",
    "$$\\{f, map\\} \\in Function$$\n",
    "$$\\forall\\ell\\in L: \\ell\\ni DataFrame$$"
   ]
  },
  {
   "cell_type": "markdown",
   "metadata": {},
   "source": [
    "Here, we use nesting to partially encode the data. This provides critical context (state) to the functions tasked to process it.\n",
    "\n",
    "In our current case, each set of sensors, $\\ell$, provides a master control system with a partial view of the surrounding environment. Compressing $\\ell$ into a single value (object) prior to reporting upward allows the control system to more efficiently reason."
   ]
  },
  {
   "cell_type": "code",
   "execution_count": null,
   "metadata": {},
   "outputs": [],
   "source": [
    "# Lazy list of \"sensor\" data where each inner list is of length `n` and each DataFrame has 'l' entries.\n",
    "sensorArray(n::Int, l::Int) = @lazy take(n, df_ll(l)):sensorArray(n, l);\n",
    "\n",
    "# Lazy list of six (6) lists of length five (5), with each DataFrame\n",
    "# holding 15,323 entries--approximately 15 seconds at 1000hz.\n",
    "rawSensorData = @>> sensorArray(5, 15323) take(6);"
   ]
  },
  {
   "cell_type": "markdown",
   "metadata": {},
   "source": [
    "## 4. Plotting with Gadfly\n",
    "- Standard plots readily available\n",
    "    - [GitHub Gallery](https://github.com/GiovineItalia/Gadfly.jl#gallery)\n",
    "    - [Gadfly.Geometries](http://gadflyjl.org/stable/lib/geometries.html)\n",
    "- Programmatic composition allows for arbitrary interleaving of logic\n",
    "    - No need to coerce data into fixed structures or relations\n",
    "    - Control of mutation, edge cases, missing values, ... in data\n",
    "    - Data structuring schemas are highly visible (open source)\n",
    "- Plots are values (objects)\n",
    "    - Custom titles/axes/file names/...\n",
    "    - Multiple computations/settings/data sets/...\n",
    "    - \"Low overhead\" modifications\n",
    "    - Layering and stacking\n",
    "- Draws to SVG, SVGJS\n",
    "    - PNG, PDF, and PS via Cairo backend\n",
    "- Jupyter and REPL"
   ]
  },
  {
   "cell_type": "code",
   "execution_count": null,
   "metadata": {},
   "outputs": [],
   "source": [
    "# Plot with largely default values\n",
    "s35 = head(rawSensorData[3][5],5000)\n",
    "plot(s35,\n",
    "        x=:t,\n",
    "        y=Col.value(:x, :y, :z),\n",
    "        color=Col.index(:x, :y, :z),\n",
    "        Guide.ylabel(\"\"),\n",
    "        Geom.smooth\n",
    "    )"
   ]
  },
  {
   "cell_type": "code",
   "execution_count": null,
   "metadata": {},
   "outputs": [],
   "source": [
    "# Custom colors\n",
    "themedPlot(s35)"
   ]
  },
  {
   "cell_type": "code",
   "execution_count": null,
   "metadata": {},
   "outputs": [],
   "source": [
    "# No labels\n",
    "themedPlotNL(s35)"
   ]
  },
  {
   "cell_type": "code",
   "execution_count": null,
   "metadata": {},
   "outputs": [],
   "source": [
    "# Data above with (x, y, z) plotted separately\n",
    "@>> [:x, :y, :z] map(s -> plot(s35, x=:t, y=s, Guide.xticks(label=false), Guide.ylabel(\"\"), Geom.smooth)) hstack"
   ]
  },
  {
   "cell_type": "code",
   "execution_count": null,
   "metadata": {},
   "outputs": [],
   "source": [
    "# Custom colors\n",
    "@> sensorXYZ(s35)"
   ]
  },
  {
   "cell_type": "code",
   "execution_count": null,
   "metadata": {},
   "outputs": [],
   "source": [
    "# No labels\n",
    "@> sensorXYZnl(s35)"
   ]
  },
  {
   "cell_type": "code",
   "execution_count": null,
   "metadata": {},
   "outputs": [],
   "source": [
    "# Scaled\n",
    "@> sensorXYZsc(s35)"
   ]
  },
  {
   "cell_type": "markdown",
   "metadata": {},
   "source": [
    "Up to now we've been using the same DataFrame, `s35`. We want to apply these schemes to each DataFrame in our List. We will use a function which maps over $L$ and converts each `DataFrame` in each $\\ell$ to a `Gadfly.Plot` object. Formally,\n",
    "\n",
    "$$g: L \\rightarrow P$$ where\n",
    "$$g \\in Function$$\n",
    "$$\\{\\ell, P\\} \\in List$$\n",
    "$$\\forall\\ell\\in P: \\ell\\ni Gadfly.Plot$$"
   ]
  },
  {
   "cell_type": "code",
   "execution_count": null,
   "metadata": {},
   "outputs": [],
   "source": [
    "# Apply `themedPlot` (add some color)\n",
    "P = @>> rawSensorData mapL(themedPlot)\n",
    "@> [themedPlot(s35), P[3][5]] hstack"
   ]
  },
  {
   "cell_type": "code",
   "execution_count": null,
   "metadata": {},
   "outputs": [],
   "source": [
    "# Apply `themedPlotNL` (drop labels)\n",
    "P_ = @>> rawSensorData mapL(themedPlotNL);\n",
    "@> [themedPlotNL(s35), P_[3][5]] hstack"
   ]
  },
  {
   "cell_type": "code",
   "execution_count": null,
   "metadata": {},
   "outputs": [],
   "source": [
    "# Apply `sensorXYZ` (make a grid)\n",
    "sXYZ = @>> rawSensorData[1] mapR(sensorXYZ);\n",
    "vstack(sXYZ[1], sXYZ[2], sXYZ[3])"
   ]
  },
  {
   "cell_type": "code",
   "execution_count": null,
   "metadata": {},
   "outputs": [],
   "source": [
    "# Apply `sensorXYZnl` (drop labels)\n",
    "sNL = @>> rawSensorData[1] mapR(sensorXYZnl);\n",
    "vstack(sNL[1], sNL[2], sNL[3])"
   ]
  },
  {
   "cell_type": "code",
   "execution_count": null,
   "metadata": {},
   "outputs": [],
   "source": [
    "# Apply `sensorXYZsc` (keep y scale consistent)\n",
    "sSC = @>> rawSensorData[1] mapR(sensorXYZsc);\n",
    "vstack(sSC[1], sSC[2], sSC[3], sSC[4])"
   ]
  },
  {
   "cell_type": "code",
   "execution_count": null,
   "metadata": {},
   "outputs": [],
   "source": [
    "# Apply `sensorXYZhl` (highlights line segments < 0.495, no y-scaling)\n",
    "sHL = @>> rawSensorData[1] mapR(sensorXYZhl);\n",
    "vstack(sHL[1], sHL[2], sHL[3])#, sHL[4], sHL[5])"
   ]
  },
  {
   "cell_type": "code",
   "execution_count": null,
   "metadata": {},
   "outputs": [],
   "source": [
    "sHL = @>> rawSensorData[6] mapR(sensorXYZhl);\n",
    "vstack(sHL[1], sHL[2], sHL[3])#, sHL[4], sHL[5])"
   ]
  },
  {
   "cell_type": "markdown",
   "metadata": {},
   "source": [
    "## 5. Resources\n",
    "\n",
    "- [Julia][jl]\n",
    "    - [Julia Computing][jlc]\n",
    "    - [JuliaBox][jbox]\n",
    "- [Gadfly][gadfly]\n",
    "- [DataFrames][df]\n",
    "- [Jupyter][jup]\n",
    "    - [DockerHub Jupyter Data Science Notebook][jup-ds]\n",
    "\n",
    "[df]: http://juliadata.github.io/DataFrames.jl/stable/\n",
    "[gadfly]: http://gadflyjl.org/stable/\n",
    "[jbox]: http://juliabox.com/\n",
    "[jl]: https://julialang.org/\n",
    "[jlc]: https://juliacomputing.com/\n",
    "[jup]: http://jupyter.org/\n",
    "[jup-ds]: https://hub.docker.com/r/jupyter/datascience-notebook/"
   ]
  },
  {
   "cell_type": "code",
   "execution_count": null,
   "metadata": {},
   "outputs": [],
   "source": []
  }
 ],
 "metadata": {
  "kernelspec": {
   "display_name": "Julia 0.6.2",
   "language": "julia",
   "name": "julia-0.6"
  },
  "language_info": {
   "file_extension": ".jl",
   "mimetype": "application/julia",
   "name": "julia",
   "version": "0.6.2"
  }
 },
 "nbformat": 4,
 "nbformat_minor": 2
}
